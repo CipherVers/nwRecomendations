{
  "nbformat": 4,
  "nbformat_minor": 0,
  "metadata": {
    "colab": {
      "provenance": []
    },
    "kernelspec": {
      "name": "python3",
      "display_name": "Python 3"
    },
    "language_info": {
      "name": "python"
    }
  },
  "cells": [
    {
      "cell_type": "code",
      "source": [
        "api_key = \"\""
      ],
      "metadata": {
        "id": "c26uIOAWPFW6"
      },
      "execution_count": null,
      "outputs": []
    },
    {
      "cell_type": "code",
      "execution_count": null,
      "metadata": {
        "colab": {
          "base_uri": "https://localhost:8080/"
        },
        "id": "cFGlgSSNOnbz",
        "outputId": "79f23dcd-5ba4-4557-d800-5788b519c44a"
      },
      "outputs": [
        {
          "output_type": "stream",
          "name": "stdout",
          "text": [
            "{'location_id': '197038', 'name': 'Citadines Antigone Montpellier', 'web_url': 'https://www.tripadvisor.com/Hotel_Review-g187153-d197038-Reviews-Citadines_Antigone_Montpellier-Montpellier_Herault_Occitanie.html?m=66827', 'address_obj': {'street1': \"588 boulevard d'Antigone\", 'street2': '', 'city': 'Montpellier', 'country': 'France', 'postalcode': '34000', 'address_string': \"588 boulevard d'Antigone, 34000, Montpellier France\"}, 'ancestors': [{'level': 'Municipality', 'name': 'Montpellier', 'location_id': '187153'}, {'level': 'Department', 'name': 'Herault', 'location_id': '2431928'}, {'level': 'Region', 'name': 'Occitanie', 'location_id': '11038881'}, {'level': 'Country', 'name': 'France', 'location_id': '187070'}], 'latitude': '43.608818', 'longitude': '3.88986', 'timezone': 'Europe/Paris', 'write_review': 'https://www.tripadvisor.com/UserReview-g187153-d197038-Citadines_Antigone_Montpellier-Montpellier_Herault_Occitanie.html?m=66827', 'ranking_data': {'geo_location_id': '187153', 'ranking_string': '#26 of 97 hotels in Montpellier', 'geo_location_name': 'Montpellier', 'ranking_out_of': '97', 'ranking': '26'}, 'rating': '4.0', 'rating_image_url': 'https://www.tripadvisor.com/img/cdsi/img2/ratings/traveler/4.0-66827-5.svg', 'num_reviews': '599', 'review_rating_count': {'1': '24', '2': '46', '3': '115', '4': '264', '5': '150'}, 'subratings': {'0': {'name': 'rate_location', 'localized_name': 'Location', 'rating_image_url': 'https://static.tacdn.com/img2/ratings/traveler/ss4.5.svg', 'value': '4.5'}, '1': {'name': 'rate_sleep', 'localized_name': 'Sleep Quality', 'rating_image_url': 'https://static.tacdn.com/img2/ratings/traveler/ss4.0.svg', 'value': '4.0'}, '2': {'name': 'rate_room', 'localized_name': 'Rooms', 'rating_image_url': 'https://static.tacdn.com/img2/ratings/traveler/ss4.0.svg', 'value': '4.0'}, '3': {'name': 'rate_service', 'localized_name': 'Service', 'rating_image_url': 'https://static.tacdn.com/img2/ratings/traveler/ss4.0.svg', 'value': '4.0'}, '4': {'name': 'rate_value', 'localized_name': 'Value', 'rating_image_url': 'https://static.tacdn.com/img2/ratings/traveler/ss4.0.svg', 'value': '4.0'}, '5': {'name': 'rate_cleanliness', 'localized_name': 'Cleanliness', 'rating_image_url': 'https://static.tacdn.com/img2/ratings/traveler/ss4.0.svg', 'value': '4.0'}}, 'photo_count': '312', 'see_all_photos': 'https://www.tripadvisor.com/Hotel_Review-g187153-d197038-m66827-Reviews-Citadines_Antigone_Montpellier-Montpellier_Herault_Occitanie.html#photos', 'price_level': '$', 'hours': {'periods': [{'open': {'day': 1, 'time': '0000'}, 'close': {'day': 1, 'time': '0000'}}, {'open': {'day': 2, 'time': '0000'}, 'close': {'day': 2, 'time': '0000'}}, {'open': {'day': 3, 'time': '0000'}, 'close': {'day': 3, 'time': '0000'}}, {'open': {'day': 4, 'time': '0000'}, 'close': {'day': 4, 'time': '0000'}}, {'open': {'day': 5, 'time': '0000'}, 'close': {'day': 5, 'time': '0000'}}, {'open': {'day': 6, 'time': '0000'}, 'close': {'day': 6, 'time': '0000'}}, {'open': {'day': 7, 'time': '0000'}, 'close': {'day': 7, 'time': '0000'}}], 'weekday_text': ['Monday: 00:00 - 00:00', 'Tuesday: 00:00 - 00:00', 'Wednesday: 00:00 - 00:00', 'Thursday: 00:00 - 00:00', 'Friday: 00:00 - 00:00', 'Saturday: 00:00 - 00:00', 'Sunday: 00:00 - 00:00']}, 'parent_brand': 'The Ascott Limited', 'brand': 'Citadines Apart hotel', 'category': {'name': 'hotel', 'localized_name': 'Hotel'}, 'subcategory': [{'name': 'hotel', 'localized_name': 'Hotel'}], 'trip_types': [{'name': 'business', 'localized_name': 'Business', 'value': '98'}, {'name': 'couples', 'localized_name': 'Couples', 'value': '162'}, {'name': 'solo', 'localized_name': 'Solo travel', 'value': '45'}, {'name': 'family', 'localized_name': 'Family', 'value': '179'}, {'name': 'friends', 'localized_name': 'Friends getaway', 'value': '74'}], 'awards': []}\n"
          ]
        }
      ],
      "source": [
        "import requests\n",
        "\n",
        "url = f\"https://api.content.tripadvisor.com/api/v1/location/197038/details?key={api_key}&language=en&currency=USD\"\n",
        "\n",
        "headers = {\"accept\": \"application/json\"}\n",
        "\n",
        "response = requests.get(url, headers=headers)\n",
        "\n",
        "print(response.json())"
      ]
    },
    {
      "cell_type": "code",
      "source": [
        "import requests\n",
        "\n",
        "url = f\"https://api.content.tripadvisor.com/api/v1/location/search?key={api_key}&searchQuery=montpellier\"\n",
        "\n",
        "headers = {\"accept\": \"application/json\"}\n",
        "\n",
        "response = requests.get(url, headers=headers)\n",
        "\n",
        "print(response.json())\n"
      ],
      "metadata": {
        "colab": {
          "base_uri": "https://localhost:8080/"
        },
        "id": "y5GrSwNGOpLV",
        "outputId": "55849365-9178-4944-b9e2-77251072a6d4"
      },
      "execution_count": null,
      "outputs": [
        {
          "output_type": "stream",
          "name": "stdout",
          "text": [
            "{'data': [{'location_id': '187153', 'name': 'Montpellier', 'address_obj': {'city': 'Occitanie', 'country': 'France', 'address_string': 'Montpellier France'}}, {'location_id': '197038', 'name': 'Citadines Antigone Montpellier', 'address_obj': {'street1': \"588 boulevard d'Antigone\", 'street2': '', 'city': 'Montpellier', 'country': 'France', 'postalcode': '34000', 'address_string': \"588 boulevard d'Antigone, 34000, Montpellier France\"}}, {'location_id': '2290178', 'name': 'Courtyard by Marriott Montpellier', 'address_obj': {'street1': '105 Place Georges Freche', 'street2': '', 'city': 'Montpellier', 'country': 'France', 'postalcode': '34000', 'address_string': '105 Place Georges Freche, 34000, Montpellier France'}}, {'location_id': '1223206', 'name': 'Pullman Montpellier Centre', 'address_obj': {'street1': '1 rue des Pertuisanes', 'street2': '', 'city': 'Montpellier', 'country': 'France', 'postalcode': '34000', 'address_string': '1 rue des Pertuisanes, 34000, Montpellier France'}}, {'location_id': '575960', 'name': 'Novotel Suites Montpellier', 'address_obj': {'street1': '45 avenue du Piree', 'street2': '', 'city': 'Montpellier', 'country': 'France', 'postalcode': '34000', 'address_string': '45 avenue du Piree, 34000, Montpellier France'}}, {'location_id': '197032', 'name': 'Novotel Montpellier', 'address_obj': {'street1': '125 B avenue de Palavas', 'street2': '', 'city': 'Montpellier', 'country': 'France', 'postalcode': '34070', 'address_string': '125 B avenue de Palavas, 34070, Montpellier France'}}, {'location_id': '232473', 'name': 'Mercure Montpellier Centre Comedie', 'address_obj': {'street1': '6 rue de la Spirale', 'street2': '', 'city': 'Montpellier', 'country': 'France', 'postalcode': '34000', 'address_string': '6 rue de la Spirale, 34000, Montpellier France'}}, {'location_id': '218241', 'name': 'Montpellier District', 'address_obj': {'street1': 'Montpellier Walk', 'city': 'Cheltenham', 'country': 'United Kingdom', 'postalcode': 'GL50', 'address_string': 'Montpellier Walk, Cheltenham GL50 England'}}, {'location_id': '256037', 'name': 'Kyriad Montpellier Centre - Antigone', 'address_obj': {'street1': '890 avenue Jean Mermoz', 'street2': '', 'city': 'Montpellier', 'country': 'France', 'postalcode': '34000', 'address_string': '890 avenue Jean Mermoz, 34000, Montpellier France'}}, {'location_id': '198303', 'name': 'Hotel Oceania Le Metropole Montpellier', 'address_obj': {'street1': '3 rue du clos Rene', 'street2': '', 'city': 'Montpellier', 'country': 'France', 'postalcode': '34000', 'address_string': '3 rue du clos Rene, 34000, Montpellier France'}}]}\n"
          ]
        }
      ]
    },
    {
      "cell_type": "code",
      "source": [
        "import random\n",
        "import math \n",
        "\n",
        "class Place():\n",
        "  def __init__(self,name,lat,lon):\n",
        "    self.name = name\n",
        "    self.lat = lat\n",
        "    self.lon = lon\n",
        "    self.radius = 0\n",
        "    self.points_around = []\n",
        "\n",
        "    self.bigList = []\n",
        "    for i in range(3):\n",
        "      self.radius = 0.2*(i+1) # km\n",
        "      listt = self.points_around_position()\n",
        "      for elm in listt:\n",
        "        self.bigList.append(elm)\n",
        "\n",
        "    for i in range(10):\n",
        "      self.radius = 0.6*(i+1) # km\n",
        "      listt = self.points_around_position()\n",
        "      for elm in listt:\n",
        "        self.bigList.append(elm)\n",
        "\n",
        "    for i in range(5):\n",
        "      self.radius = 6*(i+1) # km\n",
        "      listt = self.points_around_position(True)\n",
        "      for elm in listt:\n",
        "        self.bigList.append(elm)\n",
        "\n",
        "  def GPS_print(self):\n",
        "    xi=0\n",
        "    print(\"name,desc,latitude,longitude,n\")\n",
        "    for el in self.bigList:\n",
        "      print(f\"name_{xi}, seddx, {el[0]: .4f}, {el[1]: .4f}, {xi}\")\n",
        "      xi+=1\n",
        "\n",
        "  def points_around_position(self,trig=False):\n",
        "      # calculate distance \n",
        "      R = 6371 # earth radius in km\n",
        "      d = float(self.radius)/R \n",
        "      # convert to radians\n",
        "      lat1 = math.radians(self.lat)\n",
        "      lon1 = math.radians(self.lon)\n",
        "      # create list of points \n",
        "      points_around = []\n",
        "      # generate points \n",
        "      for _x in range(9):\n",
        "          x= _x*40\n",
        "          brng = math.radians(x)\n",
        "          lat2 = math.asin(math.sin(lat1)*math.cos(d)+math.cos(lat1)*math.sin(d)*math.cos(brng))\n",
        "          if trig:\n",
        "            lat2 += random.randint(0,abs(int(lat2*1000)))/1000000*(-1)**(random.randint(1,2))\n",
        "          lon2 = lon1 + math.atan2(math.sin(brng)*math.sin(d)*math.cos(lat1),math.cos(d)-math.sin(lat1)*math.sin(lat2))\n",
        "          if trig:\n",
        "            lon2 += random.randint(0,abs(int(lon2*1000)))/1000000*(-1)**(random.randint(1,2))\n",
        "          points_around.append([math.degrees(lat2), math.degrees(lon2)])\n",
        "      return points_around\n",
        "\n",
        "paris = Place(\"paris\",48.864716,2.349014)\n",
        "rabat = Place(\"rabat\",34.0200000,-6.8299999)\n",
        "\n",
        "#paris.GPS_print()\n",
        "rabat.GPS_print()"
      ],
      "metadata": {
        "id": "OmxsGZkyDFFF"
      },
      "execution_count": null,
      "outputs": []
    }
  ]
}